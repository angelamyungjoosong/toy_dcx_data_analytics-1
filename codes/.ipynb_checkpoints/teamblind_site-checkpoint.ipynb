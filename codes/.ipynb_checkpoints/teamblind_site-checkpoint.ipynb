{
 "cells": [
  {
   "cell_type": "markdown",
   "id": "f5be77a3-8003-4f76-aa12-1cdaaffcdc34",
   "metadata": {},
   "source": [
    "# scrapping 대상 사이트\n",
    "1. 블라인드 : https://www.teamblind.com/kr/search/%EB%94%94%EC%8A%A4%ED%81%AC\n",
    "2. 하이닥 : https://www.hidoc.co.kr/integratesearch/searchhealthqnalist?query=%EB%94%94%EC%8A%A4%ED%81%AC&page=1\n",
    "3. 클리앙 : https://www.clien.net/service/search?q=%EB%94%94%EC%8A%A4%ED%81%AC&sort=recency&p=10&boardCd=&isBoard=false"
   ]
  },
  {
   "cell_type": "code",
   "execution_count": 31,
   "id": "49ccd436-7776-48d0-975b-db9d0eac5915",
   "metadata": {
    "tags": []
   },
   "outputs": [],
   "source": [
    "from selenium import webdriver\n",
    "import time"
   ]
  },
  {
   "cell_type": "code",
   "execution_count": 32,
   "id": "2ceb7591-d618-4fb3-85d0-042e88d41f18",
   "metadata": {
    "tags": []
   },
   "outputs": [],
   "source": [
    "# open chrome browser\n",
    "browser = webdriver.Chrome(executable_path='../../chromedriver.exe')"
   ]
  },
  {
   "cell_type": "markdown",
   "id": "f4a69d9a-d414-4924-9932-6d80be9497a0",
   "metadata": {},
   "source": [
    "## 1. 블라인드 사이트"
   ]
  },
  {
   "cell_type": "code",
   "execution_count": 33,
   "id": "b64dfcfe-3413-40a0-b088-a0ba7f2028d7",
   "metadata": {
    "tags": []
   },
   "outputs": [],
   "source": [
    "browser.get('https://www.teamblind.com/kr/search/%EB%94%94%EC%8A%A4%ED%81%AC')"
   ]
  },
  {
   "cell_type": "code",
   "execution_count": 34,
   "id": "4e15c786-3c1b-413b-81c0-ad5d569fb996",
   "metadata": {
    "tags": []
   },
   "outputs": [],
   "source": [
    "browser.implicitly_wait(10)"
   ]
  },
  {
   "cell_type": "markdown",
   "id": "5a9624bd-6dad-48ec-99aa-84103dbe880f",
   "metadata": {},
   "source": [
    "### 게시글 클릭\n",
    "- #wrap > section > div > div > div.article-list > div"
   ]
  },
  {
   "cell_type": "code",
   "execution_count": 35,
   "id": "df913998-3a16-47c8-95c8-e04221440618",
   "metadata": {
    "tags": []
   },
   "outputs": [],
   "source": [
    "click_path = '#wrap > section > div > div > div.article-list > div'\n",
    "browser.find_element_by_css_selector(click_path).click()"
   ]
  },
  {
   "cell_type": "markdown",
   "id": "b5cdd96a-0e97-4f86-969d-d0ba9f41f935",
   "metadata": {},
   "source": [
    "### 게시글 정보\n",
    "- title tag : div.article-view-head > h2\n",
    "- content tag : .contents-txt\n",
    "- review tag : .wrap-comment comment_area"
   ]
  },
  {
   "cell_type": "code",
   "execution_count": 36,
   "id": "e8473396-3b31-436c-9f39-ebd6727ef9ba",
   "metadata": {
    "tags": []
   },
   "outputs": [
    {
     "data": {
      "text/plain": [
       "['디스크',\n",
       " '지인분이 디스크때문에 오른쪽 발가락쪽에 감각이 무디다는데 디스크 주사나 이런거 효과 있을까?\\n\\n운동이나 이런걸로 재활치료 힘들려나..?']"
      ]
     },
     "execution_count": 36,
     "metadata": {},
     "output_type": "execute_result"
    }
   ],
   "source": [
    "title_name = browser.find_element_by_css_selector('div.article-view-head > h2').text\n",
    "content = browser.find_element_by_css_selector('.contents-txt').text\n",
    "\n",
    "[title_name, content]"
   ]
  },
  {
   "cell_type": "code",
   "execution_count": null,
   "id": "fb8af774-df9a-426d-8d51-3c945c65f7ef",
   "metadata": {
    "tags": []
   },
   "outputs": [],
   "source": [
    "reviews_bundle = browser.find_elements_by_css_selector('.wrap-comment.comment_area')\n",
    "for review in reviews_bundle :\n",
    "    try :\n",
    "        print('writer: {}, review: {}'.format(review.find_element_by_css_selector('.name'), review.find_element_by_css_selector('.cmt-txt')))\n",
    "        time.sleep(2)\n",
    "    except :\n",
    "        print(str())\n",
    "        pass\n",
    "print('Done')"
   ]
  },
  {
   "cell_type": "code",
   "execution_count": null,
   "id": "1d58499f-9145-4a20-ae46-0a28efab8d88",
   "metadata": {},
   "outputs": [],
   "source": []
  },
  {
   "cell_type": "code",
   "execution_count": 38,
   "id": "9892cfb7-3fa2-4ade-a464-c6053ea486e3",
   "metadata": {},
   "outputs": [],
   "source": [
    "# browser.back() # 리스트로 돌아가기"
   ]
  },
  {
   "cell_type": "code",
   "execution_count": 39,
   "id": "801fddb5-9173-41e6-965c-f9cfc7463f41",
   "metadata": {
    "tags": []
   },
   "outputs": [],
   "source": [
    "# browser.quit()"
   ]
  }
 ],
 "metadata": {
  "kernelspec": {
   "display_name": "Python 3 (ipykernel)",
   "language": "python",
   "name": "python3"
  },
  "language_info": {
   "codemirror_mode": {
    "name": "ipython",
    "version": 3
   },
   "file_extension": ".py",
   "mimetype": "text/x-python",
   "name": "python",
   "nbconvert_exporter": "python",
   "pygments_lexer": "ipython3",
   "version": "3.11.3"
  }
 },
 "nbformat": 4,
 "nbformat_minor": 5
}
