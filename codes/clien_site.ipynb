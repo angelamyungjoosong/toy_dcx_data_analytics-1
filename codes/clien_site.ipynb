{
 "cells": [
  {
   "cell_type": "markdown",
   "id": "f5be77a3-8003-4f76-aa12-1cdaaffcdc34",
   "metadata": {},
   "source": [
    "# scrapping 대상 사이트\n",
    "1. 블라인드 : https://www.teamblind.com/kr/search/%EB%94%94%EC%8A%A4%ED%81%AC\n",
    "2. 하이닥 : https://www.hidoc.co.kr/integratesearch/searchhealthqnalist?query=%EB%94%94%EC%8A%A4%ED%81%AC&page=1\n",
    "3. 클리앙 : https://www.clien.net/service/search?q=%EB%94%94%EC%8A%A4%ED%81%AC&sort=recency&p=10&boardCd=&isBoard=false"
   ]
  },
  {
   "cell_type": "code",
   "execution_count": 1,
   "id": "49ccd436-7776-48d0-975b-db9d0eac5915",
   "metadata": {
    "tags": []
   },
   "outputs": [],
   "source": [
    "from selenium import webdriver\n",
    "import time"
   ]
  },
  {
   "cell_type": "code",
   "execution_count": 2,
   "id": "2ceb7591-d618-4fb3-85d0-042e88d41f18",
   "metadata": {
    "tags": []
   },
   "outputs": [],
   "source": [
    "# open chrome browser\n",
    "browser = webdriver.Chrome(executable_path='../chromedriver.exe')"
   ]
  },
  {
   "cell_type": "markdown",
   "id": "f4a69d9a-d414-4924-9932-6d80be9497a0",
   "metadata": {},
   "source": [
    "## 1. 클리앙 사이트\n",
    "- title tag : div.article-view-head > h2\n",
    "- content tag : \n",
    "- review tag : "
   ]
  },
  {
   "cell_type": "code",
   "execution_count": 7,
   "id": "b64dfcfe-3413-40a0-b088-a0ba7f2028d7",
   "metadata": {
    "tags": []
   },
   "outputs": [],
   "source": [
    "browser.get('https://www.clien.net/service/search?q=%ED%97%88%EB%A6%AC%20%EB%94%94%EC%8A%A4%ED%81%AC&sort=recency&p=0&boardCd=&isBoard=false')"
   ]
  },
  {
   "cell_type": "code",
   "execution_count": 10,
   "id": "4e15c786-3c1b-413b-81c0-ad5d569fb996",
   "metadata": {
    "tags": []
   },
   "outputs": [],
   "source": [
    "browser.implicitly_wait(10)"
   ]
  },
  {
   "cell_type": "markdown",
   "id": "5a9624bd-6dad-48ec-99aa-84103dbe880f",
   "metadata": {},
   "source": [
    "### 게시글 클릭\n",
    "- #wrap > section > div > div > div.article-list > div"
   ]
  },
  {
   "cell_type": "code",
   "execution_count": 9,
   "id": "df913998-3a16-47c8-95c8-e04221440618",
   "metadata": {
    "tags": []
   },
   "outputs": [],
   "source": [
    "click_path = '.subject_fixed'\n",
    "browser.find_element_by_css_selector(click_path).click()"
   ]
  },
  {
   "cell_type": "code",
   "execution_count": 19,
   "id": "e8473396-3b31-436c-9f39-ebd6727ef9ba",
   "metadata": {},
   "outputs": [],
   "source": [
    "title_name = browser.find_element_by_css_selector('.post_subject').text\n",
    "content = browser.find_element_by_css_selector('.post_article').text\n",
    "review = browser.find_element_by_css_selector('.comment_row').text\n",
    "\n",
    "basket = [title_name, content, review]"
   ]
  },
  {
   "cell_type": "code",
   "execution_count": 20,
   "id": "0042fef8-75f6-41e7-ab54-50b9bb79ef1b",
   "metadata": {
    "tags": []
   },
   "outputs": [
    {
     "name": "stdout",
     "output_type": "stream",
     "text": [
      "['인도네시아 쩍벌남 (국적 : 미상)....................... 26', '굥의 시그니처인 \\'저자세\\' (쩍벌+도리도리+마이크 손~)는 \\n\\n세계각국을 가리지 않네요.............................\\n\\n\\n-----\\n\\n\\n다음은 쩍벌이 일종의 질환일수도 있다는 기사입니다................\\n\\n남성의 경우 신체구조상 다리를 약간 벌리는 것이 편한 것은 사실이다. 캐나다 워털루 대학의 생체역학 교수인 스튜어트 맥길(Stuart M. McGil)의 연구 결과에 따르면 남성은 허벅지 사이에 있는 고환·성기 때문에 생물학적으로 다리가 벌어지는 것이 자연스럽다. 맥길 교수는 \"남성이 다리를 벌리고 앉는 것은 자연스러운 현상\"이라면서 \"여성의 경우 무릎과 발목이 맞닿는 것이 자연스럽지만, 남성은 고환·좁은 고관절 등의 이유로 무릎 사이에 거리가 있는 것이 당연하다\"고 밝혔다.\\n\\n그러나 다리의 각도가 지나치게 벌어지거나, 습관적으로 벌어진다면 척추질환을 우려해 볼 수 있다. 다리를 벌릴 경우 골반 변형은 물론 인체구조상 엉덩이가 앞으로 나오게 되는데, 이 때 허리가 눕는 것처럼 바닥과 등받이 사이에 기대게 되면서 척추가 비틀어지고 신경계통의 질환으로까지 이어질 수 있게 되는 것이다.\\n\\n특히 나이가 많은 40대 이상의 남성들은 하체의 근육량이 줄어 척추와 골반에 부담이 심해지는데, 다리까지 벌어져 상체의 무게를 척추와 골반이 그대로 받게 된다면 골반 관절이 잘 틀어지게 되고 척추측만증과 척추관협착증의 원인이 된다. 맥길 교수는 \"오랫동안 \\'쩍벌\\'자세로 앉아 있으면 척추에 마치 무거운 것을 반복해서 들어올리는 것과 비슷한 수준의 부담이 가해진다\"면서 \"척추 관절의 스트레스는 휴식으로 완전히 치유될 수 없다. 한 번 가해진 부담은 계속 축적되어 약한 충격에도 디스크 탈출 등의 위험성이 있다\"고 지적했다. \\n\\n출처 : 돈오늘 \\n\\nhttps://news.mt.co.kr/mtview.php?no=201911291003533', 'LINK\\nIP\\n23-09-07\\n대댓글 · 공감 신고\\n27\\n저놈의 손…\\n저놈의 발…\\n저놈의 대가리 도리도리….\\n자체가 창피하네요 ㅠㅠ']\n"
     ]
    }
   ],
   "source": [
    "print(basket)"
   ]
  },
  {
   "cell_type": "code",
   "execution_count": null,
   "id": "b0d6fe99-722d-4003-9cc8-b9ae6f5df3e1",
   "metadata": {},
   "outputs": [],
   "source": []
  }
 ],
 "metadata": {
  "kernelspec": {
   "display_name": "Python 3 (ipykernel)",
   "language": "python",
   "name": "python3"
  },
  "language_info": {
   "codemirror_mode": {
    "name": "ipython",
    "version": 3
   },
   "file_extension": ".py",
   "mimetype": "text/x-python",
   "name": "python",
   "nbconvert_exporter": "python",
   "pygments_lexer": "ipython3",
   "version": "3.11.3"
  }
 },
 "nbformat": 4,
 "nbformat_minor": 5
}
